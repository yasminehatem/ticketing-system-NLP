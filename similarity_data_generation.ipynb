{
 "cells": [
  {
   "cell_type": "markdown",
   "metadata": {},
   "source": [
    "# This file is just for processing no need to run it"
   ]
  },
  {
   "cell_type": "code",
   "execution_count": 1,
   "metadata": {
    "ExecuteTime": {
     "end_time": "2021-01-13T23:03:55.139358Z",
     "start_time": "2021-01-13T23:03:40.458145Z"
    }
   },
   "outputs": [
    {
     "name": "stderr",
     "output_type": "stream",
     "text": [
      "Using TensorFlow backend.\n"
     ]
    }
   ],
   "source": [
    "import pandas as pd\n",
    "import numpy as np\n",
    "import re\n",
    "import nltk\n",
    "import spacy\n",
    "\n",
    "from sklearn.model_selection import train_test_split\n",
    "from sklearn.ensemble import RandomForestClassifier\n",
    "\n",
    "import helping_functions as hf\n",
    "import list_helping_functions as lhf\n",
    "\n"
   ]
  },
  {
   "cell_type": "code",
   "execution_count": 2,
   "metadata": {
    "ExecuteTime": {
     "end_time": "2021-01-13T23:16:38.847115Z",
     "start_time": "2021-01-13T23:14:18.806051Z"
    }
   },
   "outputs": [
    {
     "name": "stdout",
     "output_type": "stream",
     "text": [
      "True\n"
     ]
    }
   ],
   "source": [
    "df=pd.read_excel(\"DFI -Ticketing.xlsx\")\n",
    "df.dropna(subset = [\"Team\"], inplace=True)\n",
    "df.dropna(subset = [\"Ticket-Description\"], inplace=True)\n",
    "df = df[~df['Team'].isin(['SUPPORT BT','INFOGERANCE GLOBALE','OZITEM'])]\n",
    "corpus=df['Incident-Subject']\n",
    "corpus=corpus.tolist()\n",
    "y,drop_ind=hf.cleaning(corpus)\n",
    "df.drop(df.index[drop_ind], inplace=True)\n",
    "print(df.shape[0]==len(y))\n",
    "#subj_corpus=hf.Lem_stopwords(y) \n",
    "subj_corpus=lhf.read_list('documents_processed_subject.txt')\n",
    "team=df['Team'].tolist()\n",
    "subject=df['Incident-Subject'].replace(u'\\xa0', u' ').tolist()\n",
    "arr=np.column_stack((subj_corpus, team,subject))\n",
    "arr=arr[arr[:,1].argsort()]"
   ]
  },
  {
   "cell_type": "code",
   "execution_count": 19,
   "metadata": {
    "ExecuteTime": {
     "end_time": "2021-01-13T23:37:02.746868Z",
     "start_time": "2021-01-13T23:36:13.985063Z"
    }
   },
   "outputs": [],
   "source": [
    "for i in range(len(arr)):\n",
    "    arr[i][2]=arr[i][2].replace(u'\\xa0', u' ')\n",
    "    "
   ]
  },
  {
   "cell_type": "code",
   "execution_count": 22,
   "metadata": {
    "ExecuteTime": {
     "end_time": "2021-01-09T21:40:40.306236Z",
     "start_time": "2021-01-09T21:40:38.590947Z"
    }
   },
   "outputs": [],
   "source": [
    "lhf.write_list(arr,\"corpus_subj_simil.txt\")"
   ]
  },
  {
   "cell_type": "code",
   "execution_count": null,
   "metadata": {},
   "outputs": [],
   "source": []
  },
  {
   "cell_type": "markdown",
   "metadata": {},
   "source": [
    "# Produce for every team 2 list files, its cleaned tickets and the corresponding original ticket "
   ]
  },
  {
   "cell_type": "code",
   "execution_count": 34,
   "metadata": {
    "ExecuteTime": {
     "end_time": "2021-01-14T02:30:59.243359Z",
     "start_time": "2021-01-14T02:29:42.220921Z"
    }
   },
   "outputs": [],
   "source": [
    "\n",
    "start=0\n",
    "for i in range (len(arr)):\n",
    "    if (i+1 != len(arr)):\n",
    "        if (arr[i][1]!=str(arr[i+1][1])):\n",
    "            \n",
    "            filepath_preprocessed='subjects_teams//'+str(arr[i][1])+'preprocessed.txt'\n",
    "            filepath_original='subjects_teams//'+str(arr[i][1])+'original.txt'\n",
    "            lhf.write_list(arr[start:i+1,0],filepath_preprocessed)\n",
    "            lhf.write_list(arr[start:i+1,2],filepath_original)\n",
    "            start=i+1\n",
    "#hf.write_list(corpus_subj_simil[start:len(corpus_subj_simil)],str(corpus_subj_simil[len(corpus_subj_simil)-1])+'.txt')\n",
    "\n"
   ]
  },
  {
   "cell_type": "code",
   "execution_count": 35,
   "metadata": {
    "ExecuteTime": {
     "end_time": "2021-01-14T02:39:05.804958Z",
     "start_time": "2021-01-14T02:38:45.417824Z"
    }
   },
   "outputs": [],
   "source": [
    "for i in range(len(arr)):\n",
    "    if(arr[i][1]==\"WINDOWS\"):\n",
    "            lhf.write_list(arr[i:len(arr),0],'subjects_teams//WINDOWSpreprocessed.txt')\n",
    "            lhf.write_list(arr[i:len(arr),2],'subjects_teams//WINDOWSoriginal.txt')\n",
    "            break\n",
    "       "
   ]
  },
  {
   "cell_type": "code",
   "execution_count": null,
   "metadata": {},
   "outputs": [],
   "source": []
  }
 ],
 "metadata": {
  "kernelspec": {
   "display_name": "Python 3",
   "language": "python",
   "name": "python3"
  },
  "language_info": {
   "codemirror_mode": {
    "name": "ipython",
    "version": 3
   },
   "file_extension": ".py",
   "mimetype": "text/x-python",
   "name": "python",
   "nbconvert_exporter": "python",
   "pygments_lexer": "ipython3",
   "version": "3.6.9"
  },
  "toc": {
   "base_numbering": 1,
   "nav_menu": {},
   "number_sections": true,
   "sideBar": true,
   "skip_h1_title": false,
   "title_cell": "Table of Contents",
   "title_sidebar": "Contents",
   "toc_cell": false,
   "toc_position": {},
   "toc_section_display": true,
   "toc_window_display": false
  },
  "varInspector": {
   "cols": {
    "lenName": 16,
    "lenType": 16,
    "lenVar": 40
   },
   "kernels_config": {
    "python": {
     "delete_cmd_postfix": "",
     "delete_cmd_prefix": "del ",
     "library": "var_list.py",
     "varRefreshCmd": "print(var_dic_list())"
    },
    "r": {
     "delete_cmd_postfix": ") ",
     "delete_cmd_prefix": "rm(",
     "library": "var_list.r",
     "varRefreshCmd": "cat(var_dic_list()) "
    }
   },
   "types_to_exclude": [
    "module",
    "function",
    "builtin_function_or_method",
    "instance",
    "_Feature"
   ],
   "window_display": false
  }
 },
 "nbformat": 4,
 "nbformat_minor": 2
}

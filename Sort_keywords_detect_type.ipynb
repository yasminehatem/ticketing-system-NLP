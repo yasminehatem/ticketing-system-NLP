{
 "cells": [
  {
   "cell_type": "code",
   "execution_count": 18,
   "metadata": {
    "ExecuteTime": {
     "end_time": "2021-01-14T15:18:19.661337Z",
     "start_time": "2021-01-14T15:18:19.629968Z"
    }
   },
   "outputs": [],
   "source": [
    "import pandas as pd\n",
    "import numpy as np\n",
    "import nltk\n",
    "import spacy\n",
    "import heapq\n",
    "from sklearn.feature_extraction.text import CountVectorizer\n",
    "from sklearn.feature_extraction.text import TfidfTransformer\n",
    "from sklearn.feature_extraction.text import TfidfVectorizer\n",
    "from spacy.lang.fr.stop_words import STOP_WORDS as fr_stop\n",
    "from spacy.lang.en.stop_words import STOP_WORDS as en_stop\n",
    "import imblearn\n",
    "from imblearn.over_sampling import SMOTE\n",
    "from nltk.tokenize.treebank import TreebankWordDetokenizer as Detok\n",
    "from sklearn.model_selection import train_test_split\n",
    "from sklearn.ensemble import RandomForestClassifier\n",
    "from spacy.lang.fr.stop_words import STOP_WORDS as fr_stop\n",
    "from spacy.lang.en.stop_words import STOP_WORDS as en_stop\n",
    "import pickle \n",
    "import utils.helping_functions as hf\n",
    "import utils.processing_helping_functions as phf\n",
    "import utils.list_helping_functions as lhf\n",
    "import utils.model_helping_functions as mhf\n",
    "\n",
    "from collections import Counter\n"
   ]
  },
  {
   "cell_type": "markdown",
   "metadata": {},
   "source": [
    "## Discovering Data\n"
   ]
  },
  {
   "cell_type": "code",
   "execution_count": 2,
   "metadata": {
    "ExecuteTime": {
     "end_time": "2021-01-14T04:42:51.688865Z",
     "start_time": "2021-01-14T04:41:52.783285Z"
    }
   },
   "outputs": [
    {
     "name": "stdout",
     "output_type": "stream",
     "text": [
      "(89058, 29)\n"
     ]
    },
    {
     "data": {
      "text/html": [
       "<div>\n",
       "<style scoped>\n",
       "    .dataframe tbody tr th:only-of-type {\n",
       "        vertical-align: middle;\n",
       "    }\n",
       "\n",
       "    .dataframe tbody tr th {\n",
       "        vertical-align: top;\n",
       "    }\n",
       "\n",
       "    .dataframe thead th {\n",
       "        text-align: right;\n",
       "    }\n",
       "</style>\n",
       "<table border=\"1\" class=\"dataframe\">\n",
       "  <thead>\n",
       "    <tr style=\"text-align: right;\">\n",
       "      <th></th>\n",
       "      <th>ID</th>\n",
       "      <th>Structure</th>\n",
       "      <th>Team</th>\n",
       "      <th>Operator</th>\n",
       "      <th>Type</th>\n",
       "      <th>Status</th>\n",
       "      <th>Ticket Title</th>\n",
       "      <th>Incident-Subject</th>\n",
       "      <th>Ticket-Description</th>\n",
       "      <th>Number of Changes</th>\n",
       "      <th>...</th>\n",
       "      <th>Achievement%</th>\n",
       "      <th>Charge réelle</th>\n",
       "      <th>Charge estimée</th>\n",
       "      <th>SLA</th>\n",
       "      <th>Priority</th>\n",
       "      <th>Application</th>\n",
       "      <th>Environment</th>\n",
       "      <th>ServerName</th>\n",
       "      <th>Category</th>\n",
       "      <th>Sub-Category</th>\n",
       "    </tr>\n",
       "  </thead>\n",
       "  <tbody>\n",
       "    <tr>\n",
       "      <td>0</td>\n",
       "      <td>55019</td>\n",
       "      <td>NUTRITION ET SANTE</td>\n",
       "      <td>PILOTAGE</td>\n",
       "      <td>ADIL ABBOU</td>\n",
       "      <td>Incidents</td>\n",
       "      <td>Clôturé définitivement</td>\n",
       "      <td>[CRITICAL] () FRDAPLANIF1 / Service: _SMAOpCon...</td>\n",
       "      <td>Bonsoir     Notre outil de supervision a remo...</td>\n",
       "      <td>Bonsoir,     Le service Minos a redémarré aut...</td>\n",
       "      <td>2</td>\n",
       "      <td>...</td>\n",
       "      <td>100</td>\n",
       "      <td>00h 10min</td>\n",
       "      <td>NaN</td>\n",
       "      <td>SLA-INC-C1</td>\n",
       "      <td>C1</td>\n",
       "      <td>Système</td>\n",
       "      <td>Windows</td>\n",
       "      <td>FRDAPLANIF1 / C1</td>\n",
       "      <td>Supervision</td>\n",
       "      <td>NaN</td>\n",
       "    </tr>\n",
       "    <tr>\n",
       "      <td>1</td>\n",
       "      <td>55020</td>\n",
       "      <td>POCLAIN HYDRAULICS</td>\n",
       "      <td>PILOTAGE</td>\n",
       "      <td>ADIL ABBOU</td>\n",
       "      <td>Incidents</td>\n",
       "      <td>Clôturé définitivement</td>\n",
       "      <td>[CRITICAL] FRVE-SRV-PHIND-DB06 / Partition : E</td>\n",
       "      <td>Bonjour,     Notre plateforme de supervision ...</td>\n",
       "      <td>Bonjour,     Partition OK     E:\\ - total: 19...</td>\n",
       "      <td>4</td>\n",
       "      <td>...</td>\n",
       "      <td>100</td>\n",
       "      <td>00h 15min</td>\n",
       "      <td>NaN</td>\n",
       "      <td>SLA-INCIDENT-CRITICITE-2-HNO</td>\n",
       "      <td>C2-HNO</td>\n",
       "      <td>NaN</td>\n",
       "      <td>CEGID/LINKKI</td>\n",
       "      <td>NaN</td>\n",
       "      <td>NaN</td>\n",
       "      <td>NaN</td>\n",
       "    </tr>\n",
       "    <tr>\n",
       "      <td>2</td>\n",
       "      <td>55021</td>\n",
       "      <td>RATPDEV</td>\n",
       "      <td>PILOTAGE</td>\n",
       "      <td>PHILIPPE DUVAL</td>\n",
       "      <td>Incidents</td>\n",
       "      <td>Clôturé définitivement</td>\n",
       "      <td>Job RENUM.VAC en message</td>\n",
       "      <td>Bonjour,     Message reçu dans QSYSOPR      T...</td>\n",
       "      <td>Bonjour     Je clôture ce ticket :      Trava...</td>\n",
       "      <td>3</td>\n",
       "      <td>...</td>\n",
       "      <td>100</td>\n",
       "      <td>00h 23min</td>\n",
       "      <td>NaN</td>\n",
       "      <td>Incident sévérité 1</td>\n",
       "      <td>Incident Sévérité 2</td>\n",
       "      <td>AS400</td>\n",
       "      <td>AS/400</td>\n",
       "      <td>RATP-OPERA400 / C1</td>\n",
       "      <td>NaN</td>\n",
       "      <td>NaN</td>\n",
       "    </tr>\n",
       "    <tr>\n",
       "      <td>3</td>\n",
       "      <td>55023</td>\n",
       "      <td>D-FI</td>\n",
       "      <td>SUPPORT BT NETAPP</td>\n",
       "      <td>AURELIEN CHASSAIN</td>\n",
       "      <td>Incidents</td>\n",
       "      <td>Clôturé définitivement</td>\n",
       "      <td>srvsanrdcb // NetApp : Etat Filer</td>\n",
       "      <td>Bonjour,     Notre outil de supervision nous ...</td>\n",
       "      <td>bon pour cloture  Cordialement,  Aurélien Cha...</td>\n",
       "      <td>2</td>\n",
       "      <td>...</td>\n",
       "      <td>100</td>\n",
       "      <td>00h 15min</td>\n",
       "      <td>NaN</td>\n",
       "      <td>NaN</td>\n",
       "      <td>3-Haut</td>\n",
       "      <td>Autre</td>\n",
       "      <td>Autre</td>\n",
       "      <td>NaN</td>\n",
       "      <td>NaN</td>\n",
       "      <td>NaN</td>\n",
       "    </tr>\n",
       "    <tr>\n",
       "      <td>4</td>\n",
       "      <td>55024</td>\n",
       "      <td>POCLAIN HYDRAULICS</td>\n",
       "      <td>PILOTAGE</td>\n",
       "      <td>ADIL ABBOU</td>\n",
       "      <td>Incidents</td>\n",
       "      <td>Clôturé définitivement</td>\n",
       "      <td>[FRVE-SRV-H34VM] Service PeopleSoft_D__PS_HOME...</td>\n",
       "      <td>Bonjour,     Host: FRVE-SRV-H34VM  @NAT : 10....</td>\n",
       "      <td>Bonjour,     Le service a été relancé avec su...</td>\n",
       "      <td>2</td>\n",
       "      <td>...</td>\n",
       "      <td>100</td>\n",
       "      <td>00h 10min</td>\n",
       "      <td>NaN</td>\n",
       "      <td>SLA-INCIDENT-CRITICITE-2-HNO</td>\n",
       "      <td>C2-HNO</td>\n",
       "      <td>NaN</td>\n",
       "      <td>CEGID/LINKKI</td>\n",
       "      <td>NaN</td>\n",
       "      <td>NaN</td>\n",
       "      <td>NaN</td>\n",
       "    </tr>\n",
       "  </tbody>\n",
       "</table>\n",
       "<p>5 rows × 29 columns</p>\n",
       "</div>"
      ],
      "text/plain": [
       "      ID           Structure               Team           Operator       Type  \\\n",
       "0  55019  NUTRITION ET SANTE           PILOTAGE         ADIL ABBOU  Incidents   \n",
       "1  55020  POCLAIN HYDRAULICS           PILOTAGE         ADIL ABBOU  Incidents   \n",
       "2  55021             RATPDEV           PILOTAGE     PHILIPPE DUVAL  Incidents   \n",
       "3  55023                D-FI  SUPPORT BT NETAPP  AURELIEN CHASSAIN  Incidents   \n",
       "4  55024  POCLAIN HYDRAULICS           PILOTAGE         ADIL ABBOU  Incidents   \n",
       "\n",
       "                   Status                                       Ticket Title  \\\n",
       "0  Clôturé définitivement  [CRITICAL] () FRDAPLANIF1 / Service: _SMAOpCon...   \n",
       "1  Clôturé définitivement     [CRITICAL] FRVE-SRV-PHIND-DB06 / Partition : E   \n",
       "2  Clôturé définitivement                           Job RENUM.VAC en message   \n",
       "3  Clôturé définitivement                  srvsanrdcb // NetApp : Etat Filer   \n",
       "4  Clôturé définitivement  [FRVE-SRV-H34VM] Service PeopleSoft_D__PS_HOME...   \n",
       "\n",
       "                                    Incident-Subject  \\\n",
       "0   Bonsoir     Notre outil de supervision a remo...   \n",
       "1   Bonjour,     Notre plateforme de supervision ...   \n",
       "2   Bonjour,     Message reçu dans QSYSOPR      T...   \n",
       "3   Bonjour,     Notre outil de supervision nous ...   \n",
       "4   Bonjour,     Host: FRVE-SRV-H34VM  @NAT : 10....   \n",
       "\n",
       "                                  Ticket-Description  Number of Changes  ...  \\\n",
       "0   Bonsoir,     Le service Minos a redémarré aut...                  2  ...   \n",
       "1   Bonjour,     Partition OK     E:\\ - total: 19...                  4  ...   \n",
       "2   Bonjour     Je clôture ce ticket :      Trava...                  3  ...   \n",
       "3   bon pour cloture  Cordialement,  Aurélien Cha...                  2  ...   \n",
       "4   Bonjour,     Le service a été relancé avec su...                  2  ...   \n",
       "\n",
       "  Achievement% Charge réelle Charge estimée                           SLA  \\\n",
       "0          100     00h 10min            NaN                    SLA-INC-C1   \n",
       "1          100     00h 15min            NaN  SLA-INCIDENT-CRITICITE-2-HNO   \n",
       "2          100     00h 23min            NaN           Incident sévérité 1   \n",
       "3          100     00h 15min            NaN                           NaN   \n",
       "4          100     00h 10min            NaN  SLA-INCIDENT-CRITICITE-2-HNO   \n",
       "\n",
       "              Priority Application   Environment          ServerName  \\\n",
       "0                   C1     Système       Windows    FRDAPLANIF1 / C1   \n",
       "1               C2-HNO         NaN  CEGID/LINKKI                 NaN   \n",
       "2  Incident Sévérité 2       AS400        AS/400  RATP-OPERA400 / C1   \n",
       "3               3-Haut       Autre         Autre                 NaN   \n",
       "4               C2-HNO         NaN  CEGID/LINKKI                 NaN   \n",
       "\n",
       "      Category  Sub-Category  \n",
       "0  Supervision           NaN  \n",
       "1          NaN           NaN  \n",
       "2          NaN           NaN  \n",
       "3          NaN           NaN  \n",
       "4          NaN           NaN  \n",
       "\n",
       "[5 rows x 29 columns]"
      ]
     },
     "execution_count": 2,
     "metadata": {},
     "output_type": "execute_result"
    }
   ],
   "source": [
    "df=pd.read_excel(\"DFI -Ticketing.xlsx\")\n",
    "print(df.shape)\n",
    "df.head()"
   ]
  },
  {
   "cell_type": "code",
   "execution_count": 8,
   "metadata": {
    "ExecuteTime": {
     "end_time": "2021-01-14T03:44:23.557982Z",
     "start_time": "2021-01-14T03:44:23.346678Z"
    }
   },
   "outputs": [
    {
     "data": {
      "text/plain": [
       "ID                        0\n",
       "Structure                 0\n",
       "Team                     17\n",
       "Operator                 49\n",
       "Type                      0\n",
       "Status                    0\n",
       "Ticket Title              0\n",
       "Incident-Subject          0\n",
       "Ticket-Description       24\n",
       "Number of Changes         0\n",
       "Author                    0\n",
       "Site                      0\n",
       "Creation-date             0\n",
       "update-date               0\n",
       "Validation Time           0\n",
       "Treatment Date            2\n",
       "Delay                     0\n",
       "Action-Time           11735\n",
       "Wait Time                 0\n",
       "Achievement%              0\n",
       "Charge réelle             2\n",
       "Charge estimée        89050\n",
       "SLA                   11445\n",
       "Priority               3098\n",
       "Application           23126\n",
       "Environment            4202\n",
       "ServerName            60311\n",
       "Category              31646\n",
       "Sub-Category          76718\n",
       "dtype: int64"
      ]
     },
     "execution_count": 8,
     "metadata": {},
     "output_type": "execute_result"
    }
   ],
   "source": [
    "df.isnull().sum()"
   ]
  },
  {
   "cell_type": "code",
   "execution_count": 9,
   "metadata": {
    "ExecuteTime": {
     "end_time": "2021-01-14T03:44:27.779189Z",
     "start_time": "2021-01-14T03:44:27.150972Z"
    },
    "scrolled": true
   },
   "outputs": [
    {
     "name": "stdout",
     "output_type": "stream",
     "text": [
      "ID   89058\n",
      "Structure   105\n",
      "Team   27\n",
      "Operator   114\n",
      "Type   3\n",
      "Status   7\n",
      "Ticket Title   60596\n",
      "Incident-Subject   80064\n",
      "Ticket-Description   69076\n",
      "Number of Changes   93\n",
      "Author   874\n",
      "Site   62\n",
      "Creation-date   85177\n",
      "update-date   18210\n",
      "Validation Time   1\n",
      "Treatment Date   84519\n",
      "Delay   2\n",
      "Action-Time   8728\n",
      "Wait Time   13289\n",
      "Achievement%   9\n",
      "Charge réelle   797\n",
      "Charge estimée   6\n",
      "SLA   199\n",
      "Priority   165\n",
      "Application   219\n",
      "Environment   226\n",
      "ServerName   1244\n",
      "Category   148\n",
      "Sub-Category   36\n"
     ]
    }
   ],
   "source": [
    "for col in df:\n",
    "    print(col,\" \",len(df[col].unique()))"
   ]
  },
  {
   "cell_type": "markdown",
   "metadata": {},
   "source": [
    "## Edit Data\n"
   ]
  },
  {
   "cell_type": "code",
   "execution_count": 3,
   "metadata": {
    "ExecuteTime": {
     "end_time": "2021-01-14T04:44:02.126056Z",
     "start_time": "2021-01-14T04:44:01.421952Z"
    }
   },
   "outputs": [],
   "source": [
    " #Delet Validation Time column since it has only 1 value\n",
    "df.drop(['Validation Time'],axis=1,inplace=True)\n",
    "df.dropna(subset = [\"Team\"], inplace=True)\n",
    "df.dropna(subset = [\"Ticket-Description\"], inplace=True)\n",
    "df = df[~df['Team'].isin(['SUPPORT BT','INFOGERANCE GLOBALE','OZITEM'])]\n",
    "corpus=df['Incident-Subject']+df['Ticket-Description']\n",
    "corpus=corpus.tolist()\n"
   ]
  },
  {
   "cell_type": "markdown",
   "metadata": {},
   "source": [
    "## Preprocessing Subject and description (cleaning and lemmatization)"
   ]
  },
  {
   "cell_type": "code",
   "execution_count": 4,
   "metadata": {
    "ExecuteTime": {
     "end_time": "2021-01-14T04:44:58.781951Z",
     "start_time": "2021-01-14T04:44:39.597706Z"
    }
   },
   "outputs": [
    {
     "name": "stdout",
     "output_type": "stream",
     "text": [
      "True\n"
     ]
    }
   ],
   "source": [
    "y,drop_ind=phf.cleaning(corpus)\n",
    "df.drop(df.index[drop_ind], inplace=True)\n",
    "print(df.shape[0]==len(y))\n",
    "#corpus=phf.Lem_stopwords(y) \n",
    "#lhf.write_list(corpus,'documents_processed_subject_description.txt')\n",
    "corpus=lhf.read_list('documents_processed_subject_description.txt')"
   ]
  },
  {
   "cell_type": "markdown",
   "metadata": {},
   "source": [
    "## Transforming Corpus to word vector"
   ]
  },
  {
   "cell_type": "code",
   "execution_count": 5,
   "metadata": {
    "ExecuteTime": {
     "end_time": "2021-01-14T04:45:18.959089Z",
     "start_time": "2021-01-14T04:45:10.379738Z"
    }
   },
   "outputs": [
    {
     "name": "stderr",
     "output_type": "stream",
     "text": [
      "/opt/conda/lib/python3.6/site-packages/sklearn/feature_extraction/text.py:300: UserWarning: Your stop_words may be inconsistent with your preprocessing. Tokenizing the stop words generated tokens ['ll', 'qu', 'quelqu', 've'] not in stop_words.\n",
      "  'stop_words.' % sorted(inconsistent))\n"
     ]
    }
   ],
   "source": [
    "tfidf = TfidfVectorizer(smooth_idf=True,norm='l1',stop_words=list(fr_stop) + list(en_stop))\n",
    "docs_tfidf = tfidf.fit_transform(corpus)\n"
   ]
  },
  {
   "cell_type": "markdown",
   "metadata": {},
   "source": [
    "## Get relevance of each vocabulary through summation of TF IDF for every document"
   ]
  },
  {
   "cell_type": "code",
   "execution_count": 6,
   "metadata": {
    "ExecuteTime": {
     "end_time": "2021-01-14T04:45:39.538322Z",
     "start_time": "2021-01-14T04:45:38.783876Z"
    }
   },
   "outputs": [],
   "source": [
    "#Get relevance of each vocabulary through summation of TF IDF for every document\n",
    "sum_tfidf=docs_tfidf.sum(axis=0)\n",
    "#len(sum_tfidf.transpose()z.tolist())\n",
    "sum_tfidf=sum_tfidf.transpose().tolist()"
   ]
  },
  {
   "cell_type": "markdown",
   "metadata": {},
   "source": [
    "## Extracting top 20 Keywords"
   ]
  },
  {
   "cell_type": "code",
   "execution_count": 7,
   "metadata": {
    "ExecuteTime": {
     "end_time": "2021-01-14T04:45:54.005403Z",
     "start_time": "2021-01-14T04:45:53.981831Z"
    },
    "scrolled": true
   },
   "outputs": [
    {
     "data": {
      "text/plain": [
       "['cordialement',\n",
       " 'bonjour',\n",
       " 'fr',\n",
       " 'supervision',\n",
       " 'host',\n",
       " 'cgi',\n",
       " 'effectuer',\n",
       " 'météo',\n",
       " 'service',\n",
       " 'envoi',\n",
       " 'jour',\n",
       " 'message',\n",
       " 'infogerance',\n",
       " 'pilotage',\n",
       " 'https',\n",
       " 'srv',\n",
       " 'ticket',\n",
       " 'alerte',\n",
       " 'gb',\n",
       " 'pouvoir']"
      ]
     },
     "execution_count": 7,
     "metadata": {},
     "output_type": "execute_result"
    }
   ],
   "source": [
    "keywords_index= heapq.nlargest(20, range(len(sum_tfidf)), sum_tfidf.__getitem__)\n",
    "top_keywords= [hf.get_key(x,tfidf.vocabulary_) for x in keywords_index]\n",
    "top_keywords\n",
    "# FI was originaly D-FI but TfidfVectorizer automatically remove dashes"
   ]
  },
  {
   "cell_type": "markdown",
   "metadata": {},
   "source": [
    "## Discover Class Balance"
   ]
  },
  {
   "cell_type": "code",
   "execution_count": 8,
   "metadata": {
    "ExecuteTime": {
     "end_time": "2021-01-14T04:46:08.368359Z",
     "start_time": "2021-01-14T04:46:08.273141Z"
    }
   },
   "outputs": [
    {
     "name": "stdout",
     "output_type": "stream",
     "text": [
      "Incidents      48944\n",
      "Demandes       39876\n",
      "Changements      195\n",
      "Name: Type, dtype: int64\n"
     ]
    },
    {
     "data": {
      "text/plain": [
       "Counter({'Incidents': 48944, 'Demandes': 39876, 'Changements': 195})"
      ]
     },
     "execution_count": 8,
     "metadata": {},
     "output_type": "execute_result"
    }
   ],
   "source": [
    "### Identify tickets by type\n",
    "X,y=corpus,df['Type']\n",
    "print(y.value_counts())\n",
    "Counter(y)\n",
    "# The data is imbalanced, Changements is a minor class"
   ]
  },
  {
   "cell_type": "markdown",
   "metadata": {},
   "source": [
    "## CountVectorizer of corpus for text classification"
   ]
  },
  {
   "cell_type": "code",
   "execution_count": 9,
   "metadata": {
    "ExecuteTime": {
     "end_time": "2021-01-14T04:46:36.930922Z",
     "start_time": "2021-01-14T04:46:21.397837Z"
    },
    "scrolled": true
   },
   "outputs": [
    {
     "name": "stderr",
     "output_type": "stream",
     "text": [
      "/opt/conda/lib/python3.6/site-packages/sklearn/feature_extraction/text.py:300: UserWarning: Your stop_words may be inconsistent with your preprocessing. Tokenizing the stop words generated tokens ['ll', 'qu', 'quelqu', 've'] not in stop_words.\n",
      "  'stop_words.' % sorted(inconsistent))\n"
     ]
    }
   ],
   "source": [
    "vectorizer = CountVectorizer(max_features=1500, max_df=0.7, stop_words=list(fr_stop) + list(en_stop))\n",
    "X = vectorizer.fit_transform(corpus).toarray()\n",
    "tfidfconverter = TfidfTransformer()\n",
    "X = tfidfconverter.fit_transform(X).toarray()"
   ]
  },
  {
   "cell_type": "markdown",
   "metadata": {},
   "source": [
    "## Oversampling changements class"
   ]
  },
  {
   "cell_type": "code",
   "execution_count": 10,
   "metadata": {
    "ExecuteTime": {
     "end_time": "2021-01-14T07:12:17.118794Z",
     "start_time": "2021-01-14T04:48:09.130943Z"
    }
   },
   "outputs": [
    {
     "name": "stderr",
     "output_type": "stream",
     "text": [
      "/opt/conda/lib/python3.6/site-packages/imblearn/utils/_validation.py:253: UserWarning: After over-sampling, the number of samples (48952) in class Incidents will be larger than the number of samples in the majority class (class #Incidents -> 48944)\n",
      "  n_samples_majority))\n"
     ]
    },
    {
     "data": {
      "text/plain": [
       "Incidents      48952\n",
       "Demandes       39900\n",
       "Changements    10000\n",
       "dtype: int64"
      ]
     },
     "execution_count": 10,
     "metadata": {},
     "output_type": "execute_result"
    }
   ],
   "source": [
    "sm = SMOTE(random_state=42,sampling_strategy={'Incidents': 48952, 'Demandes': 39900, 'Changements': 10000},n_jobs=-1)\n",
    "X, y = sm.fit_resample(X, y)\n",
    "pd.value_counts(y)\n"
   ]
  },
  {
   "cell_type": "markdown",
   "metadata": {},
   "source": [
    "## Random forset model training "
   ]
  },
  {
   "cell_type": "code",
   "execution_count": 11,
   "metadata": {
    "ExecuteTime": {
     "end_time": "2021-01-14T07:31:39.450477Z",
     "start_time": "2021-01-14T07:12:26.943697Z"
    }
   },
   "outputs": [
    {
     "data": {
      "text/plain": [
       "RandomForestClassifier(bootstrap=True, class_weight=None, criterion='gini',\n",
       "                       max_depth=None, max_features='auto', max_leaf_nodes=None,\n",
       "                       min_impurity_decrease=0.0, min_impurity_split=None,\n",
       "                       min_samples_leaf=1, min_samples_split=2,\n",
       "                       min_weight_fraction_leaf=0.0, n_estimators=1000,\n",
       "                       n_jobs=-1, oob_score=False, random_state=0, verbose=0,\n",
       "                       warm_start=False)"
      ]
     },
     "execution_count": 11,
     "metadata": {},
     "output_type": "execute_result"
    }
   ],
   "source": [
    "X_train, X_test, Y_train, Y_test = train_test_split(X, y, test_size=0.3, random_state=0)\n",
    "rf = RandomForestClassifier(n_estimators=1000, random_state=0,n_jobs=-1)\n",
    "rf.fit(X_train, Y_train)\n"
   ]
  },
  {
   "cell_type": "code",
   "execution_count": 14,
   "metadata": {
    "ExecuteTime": {
     "end_time": "2021-01-14T13:42:27.875078Z",
     "start_time": "2021-01-14T13:42:26.117347Z"
    }
   },
   "outputs": [],
   "source": [
    "# Save the Modle to file in the current working directory\n",
    "Pkl_Filename = \"RF_type_class_.pkl\"  \n",
    "\n",
    "\"\"\"\n",
    "\n",
    "with open(Pkl_Filename, 'wb') as file:  \n",
    "    pickle.dump(rf, file)\n",
    "\"\"\"\n",
    "with open(Pkl_Filename, 'rb') as file:  \n",
    "    model = pickle.load(file)\n"
   ]
  },
  {
   "cell_type": "markdown",
   "metadata": {},
   "source": [
    "## Random forest evaluation"
   ]
  },
  {
   "cell_type": "code",
   "execution_count": 15,
   "metadata": {
    "ExecuteTime": {
     "end_time": "2021-01-14T13:46:01.083734Z",
     "start_time": "2021-01-14T13:42:39.478930Z"
    }
   },
   "outputs": [
    {
     "name": "stdout",
     "output_type": "stream",
     "text": [
      "Accuracy on Training set 0.9990028325336725\n",
      "Accuracy on Testing set 0.9432492581602374\n",
      "[[ 2960     7     0]\n",
      " [    7 11416   583]\n",
      " [    0  1086 13597]]\n",
      "              precision    recall  f1-score   support\n",
      "\n",
      " Changements       1.00      1.00      1.00      2967\n",
      "    Demandes       0.91      0.95      0.93     12006\n",
      "   Incidents       0.96      0.93      0.94     14683\n",
      "\n",
      "    accuracy                           0.94     29656\n",
      "   macro avg       0.96      0.96      0.96     29656\n",
      "weighted avg       0.94      0.94      0.94     29656\n",
      "\n"
     ]
    }
   ],
   "source": [
    "model_train_pred=model.predict(X_train)\n",
    "model_test_pred=model.predict(X_test)\n",
    "mhf.evaluate_models(Y_train, Y_test, model_train_pred,model_test_pred)"
   ]
  },
  {
   "cell_type": "markdown",
   "metadata": {},
   "source": [
    "## Testing with an example"
   ]
  },
  {
   "cell_type": "code",
   "execution_count": 17,
   "metadata": {
    "ExecuteTime": {
     "end_time": "2021-01-14T13:53:55.338135Z",
     "start_time": "2021-01-14T13:52:09.457615Z"
    }
   },
   "outputs": [
    {
     "data": {
      "text/plain": [
       "'Incidents'"
      ]
     },
     "execution_count": 17,
     "metadata": {},
     "output_type": "execute_result"
    }
   ],
   "source": [
    "mytest=\"si il vous plait j'ai detecte cet erreur opera cordialement nadine\"\n",
    "mhf.predict(mytest,vectorizer,tfidfconverter,model)[0]"
   ]
  },
  {
   "cell_type": "code",
   "execution_count": null,
   "metadata": {},
   "outputs": [],
   "source": []
  }
 ],
 "metadata": {
  "kernelspec": {
   "display_name": "Python 3",
   "language": "python",
   "name": "python3"
  },
  "language_info": {
   "codemirror_mode": {
    "name": "ipython",
    "version": 3
   },
   "file_extension": ".py",
   "mimetype": "text/x-python",
   "name": "python",
   "nbconvert_exporter": "python",
   "pygments_lexer": "ipython3",
   "version": "3.6.9"
  },
  "toc": {
   "base_numbering": 1,
   "nav_menu": {},
   "number_sections": true,
   "sideBar": true,
   "skip_h1_title": false,
   "title_cell": "Table of Contents",
   "title_sidebar": "Contents",
   "toc_cell": false,
   "toc_position": {},
   "toc_section_display": true,
   "toc_window_display": false
  },
  "varInspector": {
   "cols": {
    "lenName": 16,
    "lenType": 16,
    "lenVar": 40
   },
   "kernels_config": {
    "python": {
     "delete_cmd_postfix": "",
     "delete_cmd_prefix": "del ",
     "library": "var_list.py",
     "varRefreshCmd": "print(var_dic_list())"
    },
    "r": {
     "delete_cmd_postfix": ") ",
     "delete_cmd_prefix": "rm(",
     "library": "var_list.r",
     "varRefreshCmd": "cat(var_dic_list()) "
    }
   },
   "types_to_exclude": [
    "module",
    "function",
    "builtin_function_or_method",
    "instance",
    "_Feature"
   ],
   "window_display": false
  }
 },
 "nbformat": 4,
 "nbformat_minor": 2
}

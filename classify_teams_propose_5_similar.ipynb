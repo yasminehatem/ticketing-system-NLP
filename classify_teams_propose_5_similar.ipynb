{
 "cells": [
  {
   "cell_type": "code",
   "execution_count": 17,
   "metadata": {
    "ExecuteTime": {
     "end_time": "2021-01-14T15:16:21.273280Z",
     "start_time": "2021-01-14T15:16:21.244214Z"
    }
   },
   "outputs": [],
   "source": [
    "import pandas as pd\n",
    "import numpy as np\n",
    "import nltk\n",
    "import spacy\n",
    "from sklearn.feature_extraction.text import CountVectorizer\n",
    "from sklearn.feature_extraction.text import TfidfTransformer\n",
    "from sklearn.feature_extraction.text import TfidfVectorizer\n",
    "from spacy.lang.fr.stop_words import STOP_WORDS as fr_stop\n",
    "from spacy.lang.en.stop_words import STOP_WORDS as en_stop\n",
    "from nltk.tokenize.treebank import TreebankWordDetokenizer as Detok\n",
    "from langdetect import detect\n",
    "\n",
    "import imblearn\n",
    "from imblearn.over_sampling import SMOTE\n",
    "from sklearn.model_selection import train_test_split\n",
    "from sklearn.ensemble import RandomForestClassifier\n",
    "\n",
    "import pickle \n",
    "from collections import Counter\n",
    "import utils.processing_helping_functions as phf\n",
    "import utils.list_helping_functions as lhf\n",
    "import utils.model_helping_functions as mhf\n",
    "\n",
    "import heapq\n",
    "import xgboost as xgb"
   ]
  },
  {
   "cell_type": "markdown",
   "metadata": {},
   "source": [
    "## Edit data"
   ]
  },
  {
   "cell_type": "code",
   "execution_count": 18,
   "metadata": {
    "ExecuteTime": {
     "end_time": "2021-01-14T15:17:52.472780Z",
     "start_time": "2021-01-14T15:16:38.527520Z"
    }
   },
   "outputs": [
    {
     "name": "stdout",
     "output_type": "stream",
     "text": [
      "True\n"
     ]
    }
   ],
   "source": [
    "df=pd.read_excel(\"DFI -Ticketing.xlsx\")\n",
    "df.dropna(subset = [\"Team\"], inplace=True)\n",
    "df.dropna(subset = [\"Ticket-Description\"], inplace=True)\n",
    "df = df[~df['Team'].isin(['SUPPORT BT','INFOGERANCE GLOBALE','OZITEM'])]\n",
    "corpus=df['Incident-Subject']+df['Ticket-Description']\n",
    "corpus=corpus.tolist()\n",
    "y,drop_ind=phf.cleaning(corpus)\n",
    "df.drop(df.index[drop_ind], inplace=True)\n",
    "print(df.shape[0]==len(y))\n",
    "#corpus=phf.Lem_stopwords(y) \n",
    "#lhf.write_list(corpus,'documents_processed_subject_description.txt')\n",
    "corpus=lhf.read_list('documents_processed_subject_description.txt')"
   ]
  },
  {
   "cell_type": "code",
   "execution_count": 3,
   "metadata": {
    "ExecuteTime": {
     "end_time": "2021-01-14T06:12:01.169890Z",
     "start_time": "2021-01-14T06:12:01.108330Z"
    }
   },
   "outputs": [
    {
     "data": {
      "text/plain": [
       "Counter({'PILOTAGE': 53719,\n",
       "         'SUPPORT BT NETAPP': 77,\n",
       "         'SAUVEGARDE': 3144,\n",
       "         'AS400': 6433,\n",
       "         'RESEAUX': 2846,\n",
       "         'WINDOWS': 8807,\n",
       "         'LINUX': 2320,\n",
       "         'COBICOM': 1461,\n",
       "         'SDM': 1781,\n",
       "         'BT TOOLS': 1325,\n",
       "         'DBA': 861,\n",
       "         'OPENINFO': 45,\n",
       "         'PROJET RC': 53,\n",
       "         'SUPPORT QUICK-EDD': 5,\n",
       "         'PROD APPLICATIVE': 1018,\n",
       "         'DIR-PROD': 136,\n",
       "         'SAP': 216,\n",
       "         'IT INTERNE': 3516,\n",
       "         'SUPPORT PLA': 1195,\n",
       "         'SG-IS-SUPPORT': 32,\n",
       "         'DATACENTER': 8,\n",
       "         'TOYS-INNERWORK': 8,\n",
       "         'AIX': 9})"
      ]
     },
     "execution_count": 3,
     "metadata": {},
     "output_type": "execute_result"
    }
   ],
   "source": [
    "### Identify tickets by type\n",
    "X,y=corpus,df['Team'].tolist()\n",
    "Counter(y)"
   ]
  },
  {
   "cell_type": "markdown",
   "metadata": {},
   "source": [
    "## Turn words to features"
   ]
  },
  {
   "cell_type": "code",
   "execution_count": 4,
   "metadata": {
    "ExecuteTime": {
     "end_time": "2021-01-14T06:13:19.691145Z",
     "start_time": "2021-01-14T06:12:33.471399Z"
    }
   },
   "outputs": [
    {
     "name": "stderr",
     "output_type": "stream",
     "text": [
      "/opt/conda/lib/python3.6/site-packages/sklearn/feature_extraction/text.py:300: UserWarning: Your stop_words may be inconsistent with your preprocessing. Tokenizing the stop words generated tokens ['ll', 'qu', 'quelqu', 've'] not in stop_words.\n",
      "  'stop_words.' % sorted(inconsistent))\n"
     ]
    }
   ],
   "source": [
    "# turn words to features\n",
    "vectorizer = CountVectorizer(max_features=3000, max_df=0.6, stop_words=list(fr_stop) + list(en_stop))\n",
    "X = vectorizer.fit_transform(corpus).toarray()\n",
    "tfidfconverter = TfidfTransformer()\n",
    "X = tfidfconverter.fit_transform(X).toarray()"
   ]
  },
  {
   "cell_type": "markdown",
   "metadata": {},
   "source": [
    "## Resampling data for Nearly balanced Teams"
   ]
  },
  {
   "cell_type": "code",
   "execution_count": 5,
   "metadata": {
    "ExecuteTime": {
     "end_time": "2021-01-14T06:13:39.051136Z",
     "start_time": "2021-01-14T06:13:39.029486Z"
    }
   },
   "outputs": [],
   "source": [
    "oversampl_dict={'PILOTAGE': 53719,\n",
    "         'SUPPORT BT NETAPP': 500,\n",
    "         'SAUVEGARDE': 3144,\n",
    "         'AS400': 6437,\n",
    "         'RESEAUX': 2849,\n",
    "         'WINDOWS': 8815,\n",
    "         'LINUX': 2322,\n",
    "         'COBICOM': 1461,\n",
    "         'SDM': 1785,\n",
    "         'BT TOOLS': 1325,\n",
    "         'DBA': 861,\n",
    "         'OPENINFO': 500,\n",
    "         'PROJET RC': 500,\n",
    "         'SUPPORT QUICK-EDD': 500,\n",
    "         'PROD APPLICATIVE': 1018,\n",
    "\n",
    "         'DIR-PROD': 1000,\n",
    "         'SAP': 1000,\n",
    "         'IT INTERNE': 3517,\n",
    "         'SUPPORT PLA': 1195,\n",
    "         'SG-IS-SUPPORT': 500,\n",
    "         'DATACENTER': 500,\n",
    "         'TOYS-INNERWORK':500,\n",
    "         'AIX': 500}\n"
   ]
  },
  {
   "cell_type": "code",
   "execution_count": 6,
   "metadata": {
    "ExecuteTime": {
     "end_time": "2021-01-14T06:37:37.550993Z",
     "start_time": "2021-01-14T06:13:58.202892Z"
    }
   },
   "outputs": [],
   "source": [
    "#oversampling minority classes\n",
    "sm = SMOTE(random_state=42,sampling_strategy=oversampl_dict,k_neighbors=3,n_jobs=-1)\n",
    "X, y = sm.fit_resample(X, y)"
   ]
  },
  {
   "cell_type": "markdown",
   "metadata": {
    "ExecuteTime": {
     "end_time": "2020-12-25T13:57:00.572540Z",
     "start_time": "2020-12-25T13:56:51.529729Z"
    }
   },
   "source": [
    "sm = SMOTE(random_state=42,sampling_strategy=oversampl_dict,n_jobs=-1)\n",
    "X, y = sm.fit_resample(X, y)\n",
    "pd.value_counts(y)"
   ]
  },
  {
   "cell_type": "markdown",
   "metadata": {},
   "source": [
    "## XGboost for team classification"
   ]
  },
  {
   "cell_type": "code",
   "execution_count": 7,
   "metadata": {
    "ExecuteTime": {
     "end_time": "2021-01-14T15:01:49.403913Z",
     "start_time": "2021-01-14T13:42:55.113187Z"
    }
   },
   "outputs": [
    {
     "data": {
      "text/plain": [
       "XGBClassifier(base_score=0.5, booster='gbtree', colsample_bylevel=1,\n",
       "              colsample_bynode=1, colsample_bytree=1, gamma=0,\n",
       "              learning_rate=0.1, max_delta_step=0, max_depth=3,\n",
       "              min_child_weight=1, missing=None, n_estimators=1000, n_jobs=-1,\n",
       "              nthread=None, objective='multi:softprob', random_state=0,\n",
       "              reg_alpha=0, reg_lambda=1, scale_pos_weight=1, seed=None,\n",
       "              silent=None, subsample=1, verbosity=1)"
      ]
     },
     "execution_count": 7,
     "metadata": {},
     "output_type": "execute_result"
    }
   ],
   "source": [
    "X_train, X_test, Y_train, Y_test = train_test_split(X, y, test_size=0.3, random_state=0)\n",
    "xgb =  xgb.XGBClassifier(n_estimators=1000, random_state=0,n_jobs=-1)\n",
    "xgb.fit(X_train, Y_train)\n"
   ]
  },
  {
   "cell_type": "code",
   "execution_count": 9,
   "metadata": {
    "ExecuteTime": {
     "end_time": "2021-01-14T15:05:27.747124Z",
     "start_time": "2021-01-14T15:05:27.678763Z"
    }
   },
   "outputs": [],
   "source": [
    "# Save the Modle to file in the current working directory\n",
    "Pkl_Filename = \"XGB_teams_class_.pkl\" \n",
    "\"\"\"\n",
    "\n",
    "with open(Pkl_Filename, 'wb') as file:  \n",
    "    pickle.dump(xgb, file)\n",
    "\"\"\"\n",
    " \n",
    "\n",
    "with open(Pkl_Filename, 'rb') as file:  \n",
    "    model = pickle.load(file)\n"
   ]
  },
  {
   "cell_type": "markdown",
   "metadata": {},
   "source": [
    "## XGboost Evaluation"
   ]
  },
  {
   "cell_type": "code",
   "execution_count": 10,
   "metadata": {
    "ExecuteTime": {
     "end_time": "2021-01-14T15:05:50.218863Z",
     "start_time": "2021-01-14T15:05:37.151351Z"
    }
   },
   "outputs": [
    {
     "name": "stdout",
     "output_type": "stream",
     "text": [
      "Accuracy on Training set 0.9691588643685811\n",
      "Accuracy on Testing set 0.9193223928004235\n",
      "[[  158     0     0     0     0     0     0     0     0     0     0     0\n",
      "      0     0     0     0     1     0     0     0     0     0     0]\n",
      " [    0  1680     0     0     0     1     3     3     3     0   170     6\n",
      "      0     3     0     2    36     0     0     2     0     0     6]\n",
      " [    0     2   216     1     0     2     0     4   108     1    19     0\n",
      "      0     9     3     0     9     0     0     0     0     0    11]\n",
      " [    0     1     0   433     0     0     0     2     1     0     9     0\n",
      "      0     1     0     1     6     0     0     0     0     0     2]\n",
      " [    0     0     0     0   141     0     0     0     0     0     1     0\n",
      "      0     0     0     0     0     0     0     0     0     0     0]\n",
      " [    0     5     8     0     0   191     0     0     3     0    53     0\n",
      "      0     0     0     1     9     0     0     0     0     0     3]\n",
      " [    0     1     1     0     0     1   280     2     0     0     2     1\n",
      "      0     0     0     0     0     0     0     0     0     0    13]\n",
      " [    0     1     0     0     0     0     1   897     0     0    63     2\n",
      "      0     6     2     0     7     0     0    37     0     0    31]\n",
      " [    0     4    74     0     0     7     0     2   530     0    57     1\n",
      "      0     9     2     1     8     2     0     0     0     0     5]\n",
      " [    0     0     0     0     0     0     0     0     0   128     4     0\n",
      "      0     1     0     0     1     0     0     0     0     0     0]\n",
      " [    0    37     2     2     0     9     4    29     5     0 15785     4\n",
      "      1    32     3    16    48     0     0     0     0     0    50]\n",
      " [    0     5     0     0     0     0     0     1     0     0     8   299\n",
      "      0     0     1     2     6     0     0     0     0     0     0]\n",
      " [    0     0     0     0     0     1     0     0     0     0     1     0\n",
      "    145     0     0     0     0     0     0     0     0     0     4]\n",
      " [    0     8     3     1     0     1     1     9     6     0   160     0\n",
      "      0   659     2     0    30     0     0     0     0     0    20]\n",
      " [    0     0     0     0     0     0     0     3     4     0     6     0\n",
      "      0     1   293     0     2     0     0     0     0     0     1]\n",
      " [    0     1     0     1     0     1     0     1     1     0    32     0\n",
      "      0     1     0   830     9     0     0     0     0     0    84]\n",
      " [    0    37     5     2     0     5     4     9    10     0   190     1\n",
      "      0    26     2     4   158     0     1     2     0     0    58]\n",
      " [    0     0     0     0     0     0     0     0     0     0     1     0\n",
      "      0     0     0     0     0   146     0     0     0     0     0]\n",
      " [    0     0     0     0     0     0     0     0     0     0     1     0\n",
      "      0     0     0     0     0     0   155     0     0     0     9]\n",
      " [    0     3     0     0     0     0     2    64     1     0     7     0\n",
      "      0     0     0     0     0     0     0   283     0     0     2]\n",
      " [    0     0     0     0     0     0     0     0     0     0     0     0\n",
      "      0     0     0     0     0     0     0     0   156     0     0]\n",
      " [    0     1     0     0     0     0     0     0     0     0     2     0\n",
      "      0     0     0     0     0     0     0     0     0   134     0]\n",
      " [    0     2     7     2     0     3     3    16    12     0   132     0\n",
      "      3    17     2    70    36     0    11     1     0     0  2352]]\n",
      "                   precision    recall  f1-score   support\n",
      "\n",
      "              AIX       1.00      0.99      1.00       159\n",
      "            AS400       0.94      0.88      0.91      1915\n",
      "         BT TOOLS       0.68      0.56      0.62       385\n",
      "          COBICOM       0.98      0.95      0.96       456\n",
      "       DATACENTER       1.00      0.99      1.00       142\n",
      "              DBA       0.86      0.70      0.77       273\n",
      "         DIR-PROD       0.94      0.93      0.93       301\n",
      "       IT INTERNE       0.86      0.86      0.86      1047\n",
      "            LINUX       0.77      0.75      0.76       702\n",
      "         OPENINFO       0.99      0.96      0.97       134\n",
      "         PILOTAGE       0.95      0.98      0.96     16027\n",
      " PROD APPLICATIVE       0.95      0.93      0.94       322\n",
      "        PROJET RC       0.97      0.96      0.97       151\n",
      "          RESEAUX       0.86      0.73      0.79       900\n",
      "              SAP       0.95      0.95      0.95       310\n",
      "       SAUVEGARDE       0.90      0.86      0.88       961\n",
      "              SDM       0.43      0.31      0.36       514\n",
      "    SG-IS-SUPPORT       0.99      0.99      0.99       147\n",
      "SUPPORT BT NETAPP       0.93      0.94      0.93       165\n",
      "      SUPPORT PLA       0.87      0.78      0.82       362\n",
      "SUPPORT QUICK-EDD       1.00      1.00      1.00       156\n",
      "   TOYS-INNERWORK       1.00      0.98      0.99       137\n",
      "          WINDOWS       0.89      0.88      0.88      2669\n",
      "\n",
      "         accuracy                           0.92     28335\n",
      "        macro avg       0.90      0.86      0.88     28335\n",
      "     weighted avg       0.92      0.92      0.92     28335\n",
      "\n"
     ]
    }
   ],
   "source": [
    "model_train_pred=model.predict(X_train)\n",
    "model_test_pred=model.predict(X_test)\n",
    "\n",
    "mhf.evaluate_models(Y_train, Y_test, model_train_pred,model_test_pred)"
   ]
  },
  {
   "cell_type": "markdown",
   "metadata": {},
   "source": [
    "## Testing a new ticket type"
   ]
  },
  {
   "cell_type": "code",
   "execution_count": 11,
   "metadata": {
    "ExecuteTime": {
     "end_time": "2021-01-14T15:07:27.020619Z",
     "start_time": "2021-01-14T15:05:57.635824Z"
    }
   },
   "outputs": [
    {
     "name": "stdout",
     "output_type": "stream",
     "text": [
      "Enter Ticket Subject: Bonjour, mon outil de supervision m'a detectee l'alerte suivante  <https://supervision.infogerance>\n"
     ]
    }
   ],
   "source": [
    "Ticket = input(\"Enter Ticket Subject: \") \n"
   ]
  },
  {
   "cell_type": "code",
   "execution_count": 12,
   "metadata": {
    "ExecuteTime": {
     "end_time": "2021-01-14T15:08:14.403663Z",
     "start_time": "2021-01-14T15:07:36.626089Z"
    }
   },
   "outputs": [
    {
     "data": {
      "text/plain": [
       "'PILOTAGE'"
      ]
     },
     "execution_count": 12,
     "metadata": {},
     "output_type": "execute_result"
    }
   ],
   "source": [
    "ticket_type=mhf.predict(Ticket,vectorizer,tfidfconverter,xgb)[0]\n",
    "ticket_type\n"
   ]
  },
  {
   "cell_type": "markdown",
   "metadata": {},
   "source": [
    "## Showing 5 similar tickets"
   ]
  },
  {
   "cell_type": "code",
   "execution_count": 16,
   "metadata": {
    "ExecuteTime": {
     "end_time": "2021-01-14T15:12:33.121835Z",
     "start_time": "2021-01-14T15:09:34.525575Z"
    }
   },
   "outputs": [
    {
     "name": "stdout",
     "output_type": "stream",
     "text": [
      "Please wait few minutes for processing\n"
     ]
    },
    {
     "name": "stderr",
     "output_type": "stream",
     "text": [
      "/opt/conda/lib/python3.6/runpy.py:193: UserWarning: [W008] Evaluating Doc.similarity based on empty vectors.\n",
      "  \"__main__\", mod_spec)\n"
     ]
    },
    {
     "name": "stdout",
     "output_type": "stream",
     "text": [
      "Match 1 \n",
      "\n",
      " ﻿Bonjour,     Notre outil de supervision nous a remonté l'alerte suivante :     Cordialement,   Pilotage D-FI﻿   \n",
      "Match 2 \n",
      "\n",
      "   Bonjour,     Notre outil de supervision nous remonte l'alerte suivante:           Cordialement.   Pilotage D-FI        \n",
      "Match 3 \n",
      "\n",
      "Bonjour,                       Notre plateforme de supervision nous remonte l'alerte suivante:         Host: FRVE-SRV-PHIND-WEB07  Service:  Service : W32Time Status :  Stopped    Best regards / Cordialement Mohamed / Pilotage D-FI \n",
      "Match 4 \n",
      "\n",
      " Bonjour,  Veuillez suspendre la supervision des serveurs suivants :  Du : 10/11/2018 à 11h  Au : Nous informerons de l'heure de la reprise  Motif : PRA X86    BEDAAD02  ESBAAD01  FRDAERELIA2  FRDAERELIA3  FRDAERELIA4  FRDAERELIA5  FRDAERELIA6  FRDABARTENDER1  FRDAED01  FRDAED02   FRDAED03  TEDAFDV3  FRREET30  FRDATSE2   FRDATL06  FRDABI02  FRDABI04     Cordialement ,  \n",
      "Match 5 \n",
      "\n",
      " Bonjour,                         Notre outil de supervision nous remonte l'alerte suivante:          \n"
     ]
    }
   ],
   "source": [
    "nlp = spacy.load('fr_core_news_md')\n",
    "ticket_=nlp(Ticket)\n",
    "similar_type_list_processed=lhf.read_list('subjects_teams//'+ticket_type+'preprocessed.txt')\n",
    "similar_type_list_original=lhf.read_list('subjects_teams//'+ticket_type+'original.txt')\n",
    "similarity=[]\n",
    "if (len(similar_type_list_processed)>3000):\n",
    "    n=3000\n",
    "else:\n",
    "    n=len(similar_type_list_processed)\n",
    "\n",
    "print(\"Please wait few minutes for processing\")\n",
    "for i in range(n):\n",
    "\n",
    "    similarity.append(ticket_.similarity(nlp(similar_type_list_processed[i])))\n",
    "biggest_match_index=heapq.nlargest(5, range(len(similarity)), key=lambda x: similarity[x])\n",
    "similar_type_list_original=np.array(similar_type_list_original)\n",
    "res=list(similar_type_list_original[biggest_match_index])\n",
    "for i in range(5):\n",
    "    print(\"Match\", i+1,\"\\n\")\n",
    "    print(res[i])\n",
    "    "
   ]
  },
  {
   "cell_type": "code",
   "execution_count": null,
   "metadata": {},
   "outputs": [],
   "source": []
  }
 ],
 "metadata": {
  "kernelspec": {
   "display_name": "Python 3",
   "language": "python",
   "name": "python3"
  },
  "language_info": {
   "codemirror_mode": {
    "name": "ipython",
    "version": 3
   },
   "file_extension": ".py",
   "mimetype": "text/x-python",
   "name": "python",
   "nbconvert_exporter": "python",
   "pygments_lexer": "ipython3",
   "version": "3.6.9"
  },
  "toc": {
   "base_numbering": 1,
   "nav_menu": {},
   "number_sections": true,
   "sideBar": true,
   "skip_h1_title": false,
   "title_cell": "Table of Contents",
   "title_sidebar": "Contents",
   "toc_cell": false,
   "toc_position": {},
   "toc_section_display": true,
   "toc_window_display": false
  },
  "varInspector": {
   "cols": {
    "lenName": 16,
    "lenType": 16,
    "lenVar": 40
   },
   "kernels_config": {
    "python": {
     "delete_cmd_postfix": "",
     "delete_cmd_prefix": "del ",
     "library": "var_list.py",
     "varRefreshCmd": "print(var_dic_list())"
    },
    "r": {
     "delete_cmd_postfix": ") ",
     "delete_cmd_prefix": "rm(",
     "library": "var_list.r",
     "varRefreshCmd": "cat(var_dic_list()) "
    }
   },
   "types_to_exclude": [
    "module",
    "function",
    "builtin_function_or_method",
    "instance",
    "_Feature"
   ],
   "window_display": false
  }
 },
 "nbformat": 4,
 "nbformat_minor": 2
}
